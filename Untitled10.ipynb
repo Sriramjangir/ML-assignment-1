{
  "nbformat": 4,
  "nbformat_minor": 0,
  "metadata": {
    "colab": {
      "provenance": [],
      "authorship_tag": "ABX9TyOzwF0gzrE4dPkZtRk7Nc59",
      "include_colab_link": true
    },
    "kernelspec": {
      "name": "python3",
      "display_name": "Python 3"
    },
    "language_info": {
      "name": "python"
    }
  },
  "cells": [
    {
      "cell_type": "markdown",
      "metadata": {
        "id": "view-in-github",
        "colab_type": "text"
      },
      "source": [
        "<a href=\"https://colab.research.google.com/github/Sriramjangir/ML-assignment-1/blob/main/Untitled10.ipynb\" target=\"_parent\"><img src=\"https://colab.research.google.com/assets/colab-badge.svg\" alt=\"Open In Colab\"/></a>"
      ]
    },
    {
      "cell_type": "code",
      "execution_count": 1,
      "metadata": {
        "colab": {
          "base_uri": "https://localhost:8080/",
          "height": 447
        },
        "id": "5AYbwgQUMXr7",
        "outputId": "c12ae3ca-d877-4cdc-f247-0c3b4ce8a1eb"
      },
      "outputs": [
        {
          "output_type": "execute_result",
          "data": {
            "text/plain": [
              "<BarContainer object of 36 artists>"
            ]
          },
          "metadata": {},
          "execution_count": 1
        },
        {
          "output_type": "display_data",
          "data": {
            "text/plain": [
              "<Figure size 640x480 with 1 Axes>"
            ],
            "image/png": "[encoded data removed]"
          },
          "metadata": {}
        }
      ],
      "source": [
        "import random\n",
        "import matplotlib.pyplot as plt\n",
        "\n",
        "mapping_dict = dict(zip(range(0,10),range(0,10)))\n",
        "\n",
        "mapping_dict\n",
        "\n",
        "for k in mapping_dict.keys():\n",
        "\n",
        "  mapping_dict[k] = str(mapping_dict[k])\n",
        "\n",
        "mapping_dict\n",
        "\n",
        "for i in range(0,26):\n",
        "  mapping_dict[10+i] = chr(65+i)\n",
        "\n",
        "mapping_dict\n",
        "\n",
        "sample_size = 5000000\n",
        "\n",
        "random_numbers = list()\n",
        "\n",
        "for i in range(0,sample_size):\n",
        "\n",
        "  blank_str = str()\n",
        "\n",
        "  random_digit = random.randint(0,35)\n",
        "  blank_str = blank_str + mapping_dict[random_digit]\n",
        "\n",
        "  random_digit = random.randint(0,35)\n",
        "  blank_str = blank_str + mapping_dict[random_digit]\n",
        "\n",
        "  for i in range(0,8):\n",
        "    coin_toss = random.randint(0,1)\n",
        "\n",
        "    if coin_toss == 1:\n",
        "\n",
        "      random_digit = random.randint(0,35)\n",
        "      blank_str = blank_str + mapping_dict[random_digit]\n",
        "\n",
        "    else:\n",
        "      break\n",
        "\n",
        "  random_numbers.append(blank_str)\n",
        "\n",
        "reverse_mapping_dict = dict()\n",
        "\n",
        "for k in mapping_dict.keys():\n",
        "  reverse_mapping_dict[mapping_dict[k]] = k\n",
        "\n",
        "base_frequency = dict()\n",
        "\n",
        "for blank_str in random_numbers:\n",
        "  highest_digit = max(blank_str)\n",
        "  highest_base = reverse_mapping_dict[highest_digit] + 1\n",
        "\n",
        "  if highest_base in base_frequency.keys():\n",
        "    base_frequency[highest_base] += (1/sample_size)\n",
        "  else:\n",
        "    base_frequency[highest_base] = (1/sample_size)\n",
        "\n",
        "plt.bar(x=base_frequency.keys(),height=base_frequency.values())"
      ]
    },
    {
      "cell_type": "markdown",
      "source": [
        "Title: Random Base Number Generator and Analysis\n",
        "\n",
        "Overview: This Python script generates random numbers in a custom base and analyzes the distribution of the highest digits in those numbers. The generated numbers are represented using a combination of digits (0-9) and uppercase letters (A-Z).\n",
        "\n",
        "Code Explanation:\n",
        "\n",
        "Mapping Dictionaries:\n",
        "mapping_dict: A dictionary mapping integers 0-9 to themselves and integers 10-35 to corresponding uppercase letters. 2. String Conversion: Convert keys in mapping_dict to strings for later concatenation. 3. Generate Random Numbers: sample_size: Specifies the number of random numbers to generate (100,000 in this case).\n",
        "\n",
        "Loop over the sample size:\n",
        "\n",
        "Generate random digits based on the mapping dictionary. Concatenate the random digits to form a string (blank_str). Conduct coin tosses to determine if more digits should be added based on the randomness condition. 4. Reverse Mapping: reverse_mapping_dict: Reverse mapping of mapping_dict to obtain the original integer values from the generated strings. 5. Frequency Analysis: base_frequency: A dictionary to store the frequency of the highest digit's base.\n",
        "\n",
        "Loop over the generated numbers:\n",
        "\n",
        "Find the highest digit in each number and determine its base using the reverse mapping. Update the frequency of that base in the base_frequency dictionary. 6. Plotting: Use Matplotlib to create a bar plot representing the frequency distribution of the highest digit's base. Instructions: Ensure you have the required dependencies installed, especially Matplotlib. Run the script to generate random numbers and analyze the distribution. Observe the generated bar plot to understand the frequency of the highest digit's base. Additional Notes: The randomness condition in the code determines whether additional digits are added to the number. This creates variability in the length of generated numbers.\n",
        "\n",
        "The script provides a customizable way to experiment with different base representations and analyze their frequency distributions.\n",
        "\n",
        "The generated bar plot visually represents the distribution of the highest digit's base, offering insights into the randomness of the generated numbers.\n",
        "\n",
        "The code can be extended and modified for different bases or additional analyses based on specific requirements."
      ],
      "metadata": {
        "id": "oHiF_PURNYWg"
      }
    }
  ]
}